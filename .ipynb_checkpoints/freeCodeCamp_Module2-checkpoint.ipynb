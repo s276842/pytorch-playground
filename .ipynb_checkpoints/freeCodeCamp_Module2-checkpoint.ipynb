{
 "cells": [
  {
   "cell_type": "code",
   "execution_count": 1,
   "metadata": {},
   "outputs": [],
   "source": [
    "import torch\n",
    "import torchvision\n",
    "from torchvision.datasets import MNIST"
   ]
  },
  {
   "cell_type": "code",
   "execution_count": 2,
   "metadata": {},
   "outputs": [],
   "source": [
    "# Download training dataset\n",
    "dataset = MNIST(root='data/', download=True)"
   ]
  },
  {
   "cell_type": "code",
   "execution_count": 3,
   "metadata": {},
   "outputs": [
    {
     "data": {
      "text/plain": [
       "60000"
      ]
     },
     "execution_count": 3,
     "metadata": {},
     "output_type": "execute_result"
    }
   ],
   "source": [
    "len(dataset)"
   ]
  },
  {
   "cell_type": "code",
   "execution_count": 4,
   "metadata": {},
   "outputs": [
    {
     "data": {
      "text/plain": [
       "10000"
      ]
     },
     "execution_count": 4,
     "metadata": {},
     "output_type": "execute_result"
    }
   ],
   "source": [
    "test_dataset = MNIST(root='data/', train=False)\n",
    "len(test_dataset)"
   ]
  },
  {
   "cell_type": "code",
   "execution_count": 5,
   "metadata": {},
   "outputs": [
    {
     "name": "stdout",
     "output_type": "stream",
     "text": [
      "Label: 5\n"
     ]
    },
    {
     "data": {
      "image/png": "[encoded data removed]",
      "text/plain": [
       "<Figure size 432x288 with 1 Axes>"
      ]
     },
     "metadata": {
      "needs_background": "light"
     },
     "output_type": "display_data"
    }
   ],
   "source": [
    "import matplotlib.pyplot as plt\n",
    "%matplotlib inline\n",
    "image, label = dataset[0]\n",
    "plt.imshow(image, cmap='gray')\n",
    "print('Label:', label)"
   ]
  },
  {
   "cell_type": "markdown",
   "metadata": {},
   "source": [
    "PyTorch doesn't know how to work with images. We need to convert the images into tensors. We can do this by specifying a transform while creating our dataset."
   ]
  },
  {
   "cell_type": "code",
   "execution_count": 6,
   "metadata": {},
   "outputs": [],
   "source": [
    "import torchvision.transforms as transforms\n",
    "\n",
    "# MNIST dataset (images and labels)\n",
    "dataset = MNIST(root='data/', \n",
    "                train=True,\n",
    "                transform=transforms.ToTensor())"
   ]
  },
  {
   "cell_type": "code",
   "execution_count": 7,
   "metadata": {},
   "outputs": [
    {
     "name": "stdout",
     "output_type": "stream",
     "text": [
      "torch.Size([1, 28, 28]) 5\n"
     ]
    }
   ],
   "source": [
    "img_tensor, label = dataset[0]\n",
    "print(img_tensor.shape, label)"
   ]
  },
  {
   "cell_type": "markdown",
   "metadata": {},
   "source": [
    "##### Train and validation sets\n",
    "Division in"
   ]
  },
  {
   "cell_type": "code",
   "execution_count": 10,
   "metadata": {},
   "outputs": [
    {
     "name": "stdout",
     "output_type": "stream",
     "text": [
      "<torch.utils.data.dataset.Subset object at 0x000001EF4F70D208>\n"
     ]
    }
   ],
   "source": [
    "from torch.utils.data import random_split\n",
    "\n",
    "train_ds, val_ds = random_split(dataset, [50000, 10000])\n",
    "len(train_ds), len(val_ds)\n",
    "print(train_ds)"
   ]
  },
  {
   "cell_type": "markdown",
   "metadata": {},
   "source": [
    "It's essential to choose a random sample for creating a validation set. Training data is often sorted by the target labels, i.e., images of 0s, followed by 1s, followed by 2s, etc. If we create a validation set using the last 20% of images, it would only consist of 8s and 9s. In contrast, the training set would contain no 8s or 9s. Such a training-validation would make it impossible to train a useful model.\n",
    "\n",
    "We can now create data loaders to help us load the data in batches. We'll use a batch size of 128."
   ]
  },
  {
   "cell_type": "code",
   "execution_count": 60,
   "metadata": {},
   "outputs": [],
   "source": [
    "from torch.utils.data import DataLoader\n",
    "\n",
    "batch_size = 128\n",
    "\n",
    "train_loader = DataLoader(train_ds, batch_size, shuffle=True)\n",
    "val_loader = DataLoader(val_ds, batch_size)"
   ]
  },
  {
   "cell_type": "markdown",
   "metadata": {},
   "source": [
    "We set shuffle=True for the training data loader to ensure that the batches generated in each epoch are different. This randomization helps generalize & speed up the training process. On the other hand, since the validation data loader is used only for evaluating the model, there is no need to shuffle the images.\n",
    "\n",
    "###### Logistic regression\n",
    "The model is linear so it expects each training example to be a vector, each 1x28x28 image tensor is flattened into a vector of size 784 (28*28) before being passed into the model.\n",
    "\n",
    "The output for each image is a vector of size 10, with each element signifying the probability of a particular target label (i.e., 0 to 9). The predicted label for an image is simply the one with the highest probability."
   ]
  },
  {
   "cell_type": "code",
   "execution_count": 61,
   "metadata": {},
   "outputs": [
    {
     "data": {
      "text/plain": [
       "MnistModel(\n",
       "  (linear): Linear(in_features=784, out_features=10, bias=True)\n",
       ")"
      ]
     },
     "execution_count": 61,
     "metadata": {},
     "output_type": "execute_result"
    }
   ],
   "source": [
    "import torch.nn as nn\n",
    "\n",
    "\n",
    "\n",
    "# Logistic regression model\n",
    "class MnistModel(nn.Module):\n",
    "\n",
    "    def __init__(self):\n",
    "        self.input_size = 28*28\n",
    "        self.num_classes = 10\n",
    "        super().__init__()\n",
    "        self.linear = nn.Linear(self.input_size, self.num_classes)\n",
    "        \n",
    "    def forward(self, xb):\n",
    "        xb = xb.reshape(-1, self.input_size)\n",
    "        out = self.linear(xb)\n",
    "        return out\n",
    "    \n",
    "model = MnistModel()\n",
    "model"
   ]
  },
  {
   "cell_type": "code",
   "execution_count": 62,
   "metadata": {},
   "outputs": [
    {
     "data": {
      "text/plain": [
       "<bound method Module.parameters of MnistModel(\n",
       "  (linear): Linear(in_features=784, out_features=10, bias=True)\n",
       ")>"
      ]
     },
     "execution_count": 62,
     "metadata": {},
     "output_type": "execute_result"
    }
   ],
   "source": [
    "model.parameters"
   ]
  },
  {
   "cell_type": "code",
   "execution_count": 63,
   "metadata": {},
   "outputs": [
    {
     "name": "stdout",
     "output_type": "stream",
     "text": [
      "torch.Size([128, 1, 28, 28])\n",
      "outputs.shape :  torch.Size([128, 10])\n",
      "Sample outputs for the first two images :\n",
      " tensor([[-0.0337,  0.0728, -0.2402,  0.0713,  0.0534, -0.2000, -0.1990,  0.1268,\n",
      "         -0.0262, -0.0581],\n",
      "        [-0.0588, -0.0938, -0.0157,  0.0035,  0.0274,  0.2004, -0.1337,  0.1261,\n",
      "          0.0623, -0.0990]])\n"
     ]
    }
   ],
   "source": [
    "for images, labels in train_loader:\n",
    "    print(images.shape)\n",
    "    outputs = model(images)\n",
    "    break\n",
    "\n",
    "print('outputs.shape : ', outputs.shape)\n",
    "print('Sample outputs for the first two images :\\n', outputs[:2].data)"
   ]
  },
  {
   "cell_type": "markdown",
   "metadata": {},
   "source": [
    "We want to turn the output to probabilities. We can do this first exponentiating and then normalizing\n",
    "$$S(y_i) = \\frac{e^{y_i}}{\\sum_je^{y_j}}$$\n",
    "\n",
    "We apply softmax to *dim=1*. Note that dim 0 are the batches 128, while dim 1 are the 10 classes"
   ]
  },
  {
   "cell_type": "code",
   "execution_count": 64,
   "metadata": {},
   "outputs": [
    {
     "name": "stdout",
     "output_type": "stream",
     "text": [
      "torch.Size([128, 10])\n",
      "Sample probabilities:\n",
      " tensor([[0.1002, 0.1115, 0.0815, 0.1113, 0.1093, 0.0849, 0.0849, 0.1177, 0.1010,\n",
      "         0.0978],\n",
      "        [0.0936, 0.0904, 0.0978, 0.0997, 0.1021, 0.1213, 0.0869, 0.1126, 0.1057,\n",
      "         0.0899]])\n",
      "Sum:  0.9999998807907104\n"
     ]
    }
   ],
   "source": [
    "import torch.nn.functional as F\n",
    "# Apply softmax for each output row\n",
    "print(outputs.shape)\n",
    "probs = F.softmax(outputs, dim=1)\n",
    "\n",
    "# Look at sample probabilities\n",
    "print(\"Sample probabilities:\\n\", probs[:2].data)\n",
    "\n",
    "# Add up the probabilities of an output row\n",
    "print(\"Sum: \", torch.sum(probs[0]).item())"
   ]
  },
  {
   "cell_type": "markdown",
   "metadata": {},
   "source": [
    "Finally, we can determine the predicted label for each image by simply choosing the index of the element with the highest probability in each output row. We can do this using torch.max, which returns each row's largest element and the corresponding index."
   ]
  },
  {
   "cell_type": "code",
   "execution_count": 65,
   "metadata": {},
   "outputs": [
    {
     "name": "stdout",
     "output_type": "stream",
     "text": [
      "predictions: \n",
      "tensor([7, 5, 1, 5, 7, 4, 7, 4, 1, 3, 4, 5, 2, 7, 9, 5, 2, 8, 3, 5, 8, 3, 4, 4,\n",
      "        1, 7, 4, 3, 4, 4, 8, 7, 2, 3, 2, 1, 5, 9, 5, 4, 7, 1, 4, 7, 0, 7, 1, 7,\n",
      "        7, 4, 3, 3, 3, 5, 7, 1, 5, 4, 2, 0, 3, 1, 3, 1, 8, 7, 8, 2, 5, 4, 7, 6,\n",
      "        8, 3, 6, 0, 4, 5, 3, 3, 1, 2, 1, 8, 7, 7, 2, 8, 1, 4, 3, 7, 4, 4, 4, 4,\n",
      "        7, 5, 3, 7, 2, 5, 4, 3, 3, 7, 7, 2, 8, 1, 1, 4, 2, 5, 2, 7, 9, 5, 4, 9,\n",
      "        2, 7, 2, 9, 8, 7, 7, 2])\n",
      "probability: \n",
      "tensor([0.1177, 0.1213, 0.1246, 0.1126, 0.1150, 0.1500, 0.1411, 0.1151, 0.1247,\n",
      "        0.1310, 0.1225, 0.1435, 0.1154, 0.1212, 0.1167, 0.1303, 0.1212, 0.1289,\n",
      "        0.1276, 0.1198, 0.1316, 0.1235, 0.1251, 0.1309, 0.1340, 0.1423, 0.1260,\n",
      "        0.1207, 0.1239, 0.1431, 0.1189, 0.1143, 0.1224, 0.1244, 0.1346, 0.1217,\n",
      "        0.1114, 0.1122, 0.1155, 0.1334, 0.1362, 0.1348, 0.1131, 0.1401, 0.1172,\n",
      "        0.1370, 0.1265, 0.1237, 0.1283, 0.1134, 0.1322, 0.1154, 0.1215, 0.1398,\n",
      "        0.1286, 0.1211, 0.1197, 0.1348, 0.1285, 0.1208, 0.1287, 0.1225, 0.1283,\n",
      "        0.1213, 0.1302, 0.1195, 0.1222, 0.1438, 0.1444, 0.1129, 0.1309, 0.1140,\n",
      "        0.1175, 0.1247, 0.1142, 0.1182, 0.1196, 0.1463, 0.1144, 0.1298, 0.1231,\n",
      "        0.1177, 0.1191, 0.1230, 0.1166, 0.1257, 0.1155, 0.1190, 0.1327, 0.1174,\n",
      "        0.1327, 0.1455, 0.1259, 0.1229, 0.1105, 0.1149, 0.1445, 0.1222, 0.1164,\n",
      "        0.1539, 0.1151, 0.1223, 0.1265, 0.1137, 0.1338, 0.1442, 0.1208, 0.1177,\n",
      "        0.1200, 0.1243, 0.1295, 0.1176, 0.1343, 0.1248, 0.1213, 0.1331, 0.1083,\n",
      "        0.1359, 0.1217, 0.1385, 0.1287, 0.1375, 0.1186, 0.1120, 0.1214, 0.1640,\n",
      "        0.1219, 0.1138], grad_fn=<MaxBackward0>)\n"
     ]
    }
   ],
   "source": [
    "max_probs, preds = torch.max(probs, dim=1)\n",
    "print(f\"predictions: \\n{preds}\")\n",
    "print(f\"probability: \\n{max_probs}\")"
   ]
  },
  {
   "cell_type": "markdown",
   "metadata": {},
   "source": [
    "We can define an accuracy function counting the number of predictions == actual labels.\n",
    "\n",
    "The == operator performs an element-wise comparison of two tensors with the same shape and returns a tensor of the same shape, containing True for unequal elements and False for equal elements. Passing the result to torch.sum returns the number of labels that were predicted correctly. Finally, we divide by the total number of images to get the accuracy.\n",
    "\n",
    "Note that we don't need to apply softmax to the outputs since its results have the same relative order. This is because e^x is an increasing function, i.e., if y1 > y2, then e^y1 > e^y2. The same holds after averaging out the values to get the softmax.\n",
    "\n",
    "Let's calculate the accuracy of the current model on the first batch of data."
   ]
  },
  {
   "cell_type": "code",
   "execution_count": 66,
   "metadata": {},
   "outputs": [],
   "source": [
    "def accuracy(outputs, labels):\n",
    "    _, preds = torch.max(outputs, dim=1)\n",
    "    return torch.tensor(torch.sum(preds == labels).item() / len(preds))"
   ]
  },
  {
   "cell_type": "code",
   "execution_count": 67,
   "metadata": {},
   "outputs": [
    {
     "data": {
      "text/plain": [
       "tensor(0.1484)"
      ]
     },
     "execution_count": 67,
     "metadata": {},
     "output_type": "execute_result"
    }
   ],
   "source": [
    "accuracy(outputs, labels)"
   ]
  },
  {
   "cell_type": "markdown",
   "metadata": {},
   "source": [
    "Accuracy is an excellent way for us (humans) to evaluate the model. However, we can't use it as a loss function for optimizing our model using gradient descent for the following reasons:\n",
    "\n",
    "It's not a differentiable function. torch.max and == are both non-continuous and non-differentiable operations, so we can't use the accuracy for computing gradients w.r.t the weights and biases.\n",
    "\n",
    "It doesn't take into account the actual probabilities predicted by the model, so it can't provide sufficient feedback for incremental improvements.\n",
    "\n",
    "For these reasons, accuracy is often used as an evaluation metric for classification, but not as a loss function. A commonly used loss function for classification problems is the cross-entropy, which has the following formula:\n",
    "\n",
    "<img src=\"https://i.imgur.com/VDRDl1D.png\">\n",
    "\n",
    "Note that only the value $i$ s.t. $y_i=1$ is kept"
   ]
  },
  {
   "cell_type": "code",
   "execution_count": 68,
   "metadata": {},
   "outputs": [
    {
     "name": "stdout",
     "output_type": "stream",
     "text": [
      "tensor(2.2924, grad_fn=<NllLossBackward>)\n"
     ]
    }
   ],
   "source": [
    "loss_fn = F.cross_entropy\n",
    "\n",
    "# Loss for current batch of data\n",
    "loss = loss_fn(outputs, labels)\n",
    "print(loss)"
   ]
  },
  {
   "cell_type": "markdown",
   "metadata": {},
   "source": [
    "We know that cross-entropy is the negative logarithm of the predicted probability of the correct label averaged over all training samples. Therefore, one way to interpret the resulting number e.g. 2.23 is look at e^-2.23 which is around 0.1 as the predicted probability of the correct label, on average. The lower the loss, The better the model. \n",
    "\n",
    "##### Training the model"
   ]
  },
  {
   "cell_type": "code",
   "execution_count": 71,
   "metadata": {},
   "outputs": [],
   "source": [
    "input_size = 784\n",
    "num_classes = 10\n",
    "class MnistModel(nn.Module):\n",
    "    def __init__(self):\n",
    "        super().__init__()\n",
    "        self.linear = nn.Linear(input_size, num_classes)\n",
    "        \n",
    "    def forward(self, xb):\n",
    "        xb = xb.reshape(-1, 784)\n",
    "        out = self.linear(xb)\n",
    "        return out\n",
    "    \n",
    "    def training_step(self, batch):\n",
    "        images, labels = batch \n",
    "        out = self(images)                  # Generate predictions\n",
    "        loss = F.cross_entropy(out, labels) # Calculate loss\n",
    "        return loss\n",
    "    \n",
    "    def validation_step(self, batch):\n",
    "        images, labels = batch \n",
    "        out = self(images)                    # Generate predictions\n",
    "        loss = F.cross_entropy(out, labels)   # Calculate loss\n",
    "        acc = accuracy(out, labels)           # Calculate accuracy\n",
    "        return {'val_loss': loss, 'val_acc': acc}\n",
    "        \n",
    "    def validation_epoch_end(self, outputs):\n",
    "        batch_losses = [x['val_loss'] for x in outputs]\n",
    "        epoch_loss = torch.stack(batch_losses).mean()   # Combine losses\n",
    "        batch_accs = [x['val_acc'] for x in outputs]\n",
    "        epoch_acc = torch.stack(batch_accs).mean()      # Combine accuracies\n",
    "        return {'val_loss': epoch_loss.item(), 'val_acc': epoch_acc.item()}\n",
    "    \n",
    "    def epoch_end(self, epoch, result):\n",
    "        print(\"Epoch [{}], val_loss: {:.4f}, val_acc: {:.4f}\".format(epoch, result['val_loss'], result['val_acc']))\n",
    "    \n",
    "model = MnistModel()"
   ]
  },
  {
   "cell_type": "code",
   "execution_count": null,
   "metadata": {},
   "outputs": [],
   "source": []
  },
  {
   "cell_type": "code",
   "execution_count": 72,
   "metadata": {},
   "outputs": [],
   "source": [
    "def evaluate(model, val_loader):\n",
    "    outputs = [model.validation_step(batch) for batch in val_loader]\n",
    "    return model.validation_epoch_end(outputs)"
   ]
  },
  {
   "cell_type": "code",
   "execution_count": 73,
   "metadata": {},
   "outputs": [],
   "source": [
    "def fit(epochs, lr, model, train_loader, val_loader, opt_func=torch.optim.SGD):\n",
    "    optimizer = opt_func(model.parameters(), lr)\n",
    "    history = [] # for recording epoch-wise results\n",
    "    \n",
    "    for epoch in range(epochs):\n",
    "        \n",
    "        # Training Phase \n",
    "        for batch in train_loader:\n",
    "            loss = model.training_step(batch)\n",
    "            loss.backward()\n",
    "            optimizer.step()\n",
    "            optimizer.zero_grad()\n",
    "        \n",
    "        # Validation phase\n",
    "        result = evaluate(model, val_loader)\n",
    "        model.epoch_end(epoch, result)\n",
    "        history.append(result)\n",
    "\n",
    "    return history"
   ]
  },
  {
   "cell_type": "code",
   "execution_count": 77,
   "metadata": {},
   "outputs": [
    {
     "name": "stdout",
     "output_type": "stream",
     "text": [
      "Epoch [0], val_loss: 0.7358, val_acc: 0.8433\n",
      "Epoch [1], val_loss: 0.7181, val_acc: 0.8457\n",
      "Epoch [2], val_loss: 0.7021, val_acc: 0.8481\n",
      "Epoch [3], val_loss: 0.6876, val_acc: 0.8497\n",
      "Epoch [4], val_loss: 0.6742, val_acc: 0.8514\n",
      "Epoch [5], val_loss: 0.6619, val_acc: 0.8524\n",
      "Epoch [6], val_loss: 0.6506, val_acc: 0.8538\n",
      "Epoch [7], val_loss: 0.6401, val_acc: 0.8549\n",
      "Epoch [8], val_loss: 0.6303, val_acc: 0.8569\n",
      "Epoch [9], val_loss: 0.6212, val_acc: 0.8573\n",
      "Epoch [10], val_loss: 0.6127, val_acc: 0.8584\n",
      "Epoch [11], val_loss: 0.6047, val_acc: 0.8601\n",
      "Epoch [12], val_loss: 0.5972, val_acc: 0.8616\n",
      "Epoch [13], val_loss: 0.5901, val_acc: 0.8623\n",
      "Epoch [14], val_loss: 0.5835, val_acc: 0.8631\n",
      "Epoch [15], val_loss: 0.5771, val_acc: 0.8637\n",
      "Epoch [16], val_loss: 0.5712, val_acc: 0.8645\n",
      "Epoch [17], val_loss: 0.5655, val_acc: 0.8656\n",
      "Epoch [18], val_loss: 0.5601, val_acc: 0.8662\n",
      "Epoch [19], val_loss: 0.5550, val_acc: 0.8668\n",
      "Epoch [20], val_loss: 0.5501, val_acc: 0.8671\n",
      "Epoch [21], val_loss: 0.5455, val_acc: 0.8673\n",
      "Epoch [22], val_loss: 0.5410, val_acc: 0.8683\n",
      "Epoch [23], val_loss: 0.5368, val_acc: 0.8688\n",
      "Epoch [24], val_loss: 0.5327, val_acc: 0.8695\n",
      "Epoch [25], val_loss: 0.5287, val_acc: 0.8699\n",
      "Epoch [26], val_loss: 0.5250, val_acc: 0.8704\n",
      "Epoch [27], val_loss: 0.5214, val_acc: 0.8705\n",
      "Epoch [28], val_loss: 0.5179, val_acc: 0.8709\n",
      "Epoch [29], val_loss: 0.5146, val_acc: 0.8711\n",
      "Epoch [30], val_loss: 0.5113, val_acc: 0.8721\n",
      "Epoch [31], val_loss: 0.5082, val_acc: 0.8726\n",
      "Epoch [32], val_loss: 0.5052, val_acc: 0.8732\n",
      "Epoch [33], val_loss: 0.5023, val_acc: 0.8740\n",
      "Epoch [34], val_loss: 0.4996, val_acc: 0.8744\n",
      "Epoch [35], val_loss: 0.4968, val_acc: 0.8752\n",
      "Epoch [36], val_loss: 0.4942, val_acc: 0.8754\n",
      "Epoch [37], val_loss: 0.4917, val_acc: 0.8758\n",
      "Epoch [38], val_loss: 0.4892, val_acc: 0.8764\n",
      "Epoch [39], val_loss: 0.4869, val_acc: 0.8763\n",
      "Epoch [40], val_loss: 0.4845, val_acc: 0.8770\n",
      "Epoch [41], val_loss: 0.4823, val_acc: 0.8773\n",
      "Epoch [42], val_loss: 0.4801, val_acc: 0.8776\n",
      "Epoch [43], val_loss: 0.4780, val_acc: 0.8782\n",
      "Epoch [44], val_loss: 0.4759, val_acc: 0.8783\n",
      "Epoch [45], val_loss: 0.4739, val_acc: 0.8788\n",
      "Epoch [46], val_loss: 0.4720, val_acc: 0.8789\n",
      "Epoch [47], val_loss: 0.4701, val_acc: 0.8793\n",
      "Epoch [48], val_loss: 0.4682, val_acc: 0.8797\n",
      "Epoch [49], val_loss: 0.4665, val_acc: 0.8798\n"
     ]
    }
   ],
   "source": [
    "history1 = fit(50, 0.001, model, train_loader, val_loader)"
   ]
  },
  {
   "cell_type": "code",
   "execution_count": 115,
   "metadata": {},
   "outputs": [
    {
     "data": {
      "text/plain": [
       "{'val_loss': 0.4357922673225403, 'val_acc': 0.8885482549667358}"
      ]
     },
     "execution_count": 115,
     "metadata": {},
     "output_type": "execute_result"
    }
   ],
   "source": [
    "test_dataset = MNIST(root='data/', train=False, transform=transforms.ToTensor())\n",
    "test_loader = DataLoader(test_dataset, batch_size)\n",
    "\n",
    "evaluate(model, test_loader)    "
   ]
  },
  {
   "cell_type": "code",
   "execution_count": 81,
   "metadata": {},
   "outputs": [],
   "source": [
    "def predict_image(img, model):\n",
    "    xb = img.unsqueeze(0)\n",
    "    yb = model(xb)\n",
    "    _, preds = torch.max(yb, dim=1)\n",
    "    return preds[0].item()"
   ]
  },
  {
   "cell_type": "code",
   "execution_count": 113,
   "metadata": {},
   "outputs": [
    {
     "name": "stdout",
     "output_type": "stream",
     "text": [
      "Label: 6 , Predicted: 6\n"
     ]
    },
    {
     "data": {
      "image/png": "[encoded data removed]",
      "text/plain": [
       "<Figure size 432x288 with 1 Axes>"
      ]
     },
     "metadata": {
      "needs_background": "light"
     },
     "output_type": "display_data"
    }
   ],
   "source": [
    "import numpy as np\n",
    "img, label = test_dataset[np.random.randint(len(test_dataset))]\n",
    "plt.imshow(img[0], cmap='gray')\n",
    "print('Label:', label, ', Predicted:', predict_image(img, model))"
   ]
  },
  {
   "cell_type": "code",
   "execution_count": 114,
   "metadata": {},
   "outputs": [
    {
     "name": "stdout",
     "output_type": "stream",
     "text": [
      "Label: 2 , Predicted: 3\n"
     ]
    },
    {
     "data": {
      "image/png": "[encoded data removed]",
      "text/plain": [
       "<Figure size 432x288 with 1 Axes>"
      ]
     },
     "metadata": {
      "needs_background": "light"
     },
     "output_type": "display_data"
    }
   ],
   "source": [
    "# Wrong\n",
    "while True:\n",
    "    img, label = test_dataset[np.random.randint(len(test_dataset))]\n",
    "    if label != predict_image(img, model):\n",
    "        break\n",
    "plt.imshow(img[0], cmap='gray')\n",
    "print('Label:', label, ', Predicted:', predict_image(img, model))"
   ]
  },
  {
   "cell_type": "markdown",
   "metadata": {},
   "source": [
    "###### Save/Load model"
   ]
  },
  {
   "cell_type": "code",
   "execution_count": 117,
   "metadata": {},
   "outputs": [
    {
     "name": "stdout",
     "output_type": "stream",
     "text": [
      "New instatiated model {'val_loss': 2.3092503547668457, 'val_acc': 0.06416015326976776}\n"
     ]
    },
    {
     "data": {
      "text/plain": [
       "{'val_loss': 0.43419450521469116, 'val_acc': 0.8875976800918579}"
      ]
     },
     "execution_count": 117,
     "metadata": {},
     "output_type": "execute_result"
    }
   ],
   "source": [
    "# Save state of the model\n",
    "torch.save(model.state_dict(), 'mnist-logistic.pth')\n",
    "\n",
    "# Instantiate new object\n",
    "model2 = MnistModel()\n",
    "result = evaluate(model2, test_loader)\n",
    "print(f\"New instatiated model {result}\")\n",
    "\n",
    "# Load model\n",
    "model2.load_state_dict(torch.load('mnist-logistic.pth'))\n",
    "\n",
    "test_loader = DataLoader(test_dataset, batch_size=256)\n",
    "result = evaluate(model2, test_loader)\n",
    "result"
   ]
  },
  {
   "cell_type": "code",
   "execution_count": null,
   "metadata": {},
   "outputs": [],
   "source": []
  },
  {
   "cell_type": "code",
   "execution_count": null,
   "metadata": {},
   "outputs": [],
   "source": []
  },
  {
   "cell_type": "code",
   "execution_count": null,
   "metadata": {},
   "outputs": [],
   "source": []
  },
  {
   "cell_type": "code",
   "execution_count": null,
   "metadata": {},
   "outputs": [],
   "source": []
  },
  {
   "cell_type": "code",
   "execution_count": null,
   "metadata": {},
   "outputs": [],
   "source": []
  }
 ],
 "metadata": {
  "kernelspec": {
   "display_name": "Python 3",
   "language": "python",
   "name": "python3"
  },
  "language_info": {
   "codemirror_mode": {
    "name": "ipython",
    "version": 3
   },
   "file_extension": ".py",
   "mimetype": "text/x-python",
   "name": "python",
   "nbconvert_exporter": "python",
   "pygments_lexer": "ipython3",
   "version": "3.9.2"
  }
 },
 "nbformat": 4,
 "nbformat_minor": 4
}
