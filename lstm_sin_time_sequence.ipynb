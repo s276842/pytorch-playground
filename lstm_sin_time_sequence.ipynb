{
  "nbformat": 4,
  "nbformat_minor": 0,
  "metadata": {
    "colab": {
      "name": "lstm_sin-time-sequence.ipynb",
      "provenance": []
    },
    "kernelspec": {
      "name": "python3",
      "display_name": "Python 3"
    }
  },
  "cells": [
    {
      "cell_type": "code",
      "metadata": {
        "id": "nBzX-SkQoWNH"
      },
      "source": [
        "import numpy as np\r\n",
        "import torch\r\n",
        "import torch.nn as nn\r\n",
        "import torch.optim as optim\r\n",
        "\r\n",
        "import matplotlib.pyplot as plt"
      ],
      "execution_count": 1,
      "outputs": []
    },
    {
      "cell_type": "code",
      "metadata": {
        "colab": {
          "base_uri": "https://localhost:8080/"
        },
        "id": "tkm6N0bboiQM",
        "outputId": "ab5579c5-2ac7-4cca-e1b3-cc0072b8ba8c"
      },
      "source": [
        "# Generating data\r\n",
        "N = 100\r\n",
        "L = 1000\r\n",
        "T = 20\r\n",
        "\r\n",
        "x = np.empty((N, L), np.float32)\r\n",
        "x[:] = np.array(range(L)) + np.random.randint(-4*T, 4*T, N).reshape(N, 1)\r\n",
        "y = np.sin(x/T).astype(np.float32)\r\n",
        "\r\n",
        "print(y.shape)"
      ],
      "execution_count": 38,
      "outputs": [
        {
          "output_type": "stream",
          "text": [
            "(100, 1000)\n"
          ],
          "name": "stdout"
        }
      ]
    },
    {
      "cell_type": "code",
      "metadata": {
        "id": "scwofSwko_ir"
      },
      "source": [
        "\r\n",
        "x = np.empty((N, L), 'int64')\r\n",
        "x[:] = np.array(range(L)) + np.random.randint(-4 * T, 4 * T, N).reshape(N, 1)\r\n",
        "data = np.sin(x / 1.0 / T).astype('float64')\r\n",
        "torch.save(data, open('traindata.pt', 'wb'))"
      ],
      "execution_count": 52,
      "outputs": []
    },
    {
      "cell_type": "code",
      "metadata": {
        "id": "E2tfO749o_zb"
      },
      "source": [
        "class LSTMPredictor(nn.Module):\r\n",
        "  def __init__(self, n_hidden=51):\r\n",
        "      super(LSTMPredictor, self).__init__()\r\n",
        "      self.n_hidden = n_hidden\r\n",
        "\r\n",
        "      self.lstm1 = nn.LSTMCell(1, self.n_hidden)\r\n",
        "      self.lstm2 = nn.LSTMCell(self.n_hidden, self.n_hidden)\r\n",
        "      self.linear = nn.Linear(self.n_hidden, 1)\r\n",
        "\r\n",
        "  def forward(self, x, future=0):\r\n",
        "      outputs = []\r\n",
        "      n_samples = x.size(0)\r\n",
        "\r\n",
        "      h_t = torch.zeros(n_samples, self.n_hidden, dtype=torch.float32)\r\n",
        "      c_t = torch.zeros(n_samples, self.n_hidden, dtype=torch.float32)\r\n",
        "      h_t2 = torch.zeros(n_samples, self.n_hidden, dtype=torch.float32)\r\n",
        "      c_t2 = torch.zeros(n_samples, self.n_hidden, dtype=torch.float32)\r\n",
        "\r\n",
        "      for input_t in x.split(1, dim=1):\r\n",
        "          h_t, c_t = self.lstm1(input_t, (h_t, c_t))\r\n",
        "          h_t2, c_t2 = self.lstm2(h_t, (h_t2, c_t2))\r\n",
        "          output = self.linear(h_t2)\r\n",
        "          outputs.append(output)\r\n",
        "      \r\n",
        "      for i in range(future):\r\n",
        "          h_t, c_t = self.lstm1(output, (h_t, c_t))\r\n",
        "          h_t2, c_t2 = self.lstm2(h_t, (h_t2, c_t2))\r\n",
        "          output = self.linear(h_t2)\r\n",
        "          outputs.append(output)\r\n",
        "\r\n",
        "      outputs = torch.cat(outputs, dim=1)\r\n",
        "      return outputs"
      ],
      "execution_count": 63,
      "outputs": []
    },
    {
      "cell_type": "code",
      "metadata": {
        "id": "7WpFxxQlwrFH"
      },
      "source": [
        "def get_default_device():\r\n",
        "    \"\"\"Pick GPU if available, else CPU\"\"\"\r\n",
        "    if torch.cuda.is_available():\r\n",
        "        return torch.device('cuda')\r\n",
        "    else:\r\n",
        "        return torch.device('cpu')\r\n"
      ],
      "execution_count": 64,
      "outputs": []
    },
    {
      "cell_type": "code",
      "metadata": {
        "id": "VRvJTsAcwtGs"
      },
      "source": [
        "device = get_default_device()"
      ],
      "execution_count": 65,
      "outputs": []
    },
    {
      "cell_type": "code",
      "metadata": {
        "id": "m1mVKAk4zdjt"
      },
      "source": [
        "def draw(y, color):\r\n",
        "  plt.title(f'Step {i+1}')\r\n",
        "  plt.xlabel('x')\r\n",
        "  plt.ylabel('y')\r\n",
        "  n = train_input.shape[1]\r\n",
        "  plt.plot(np.arange(n), y[:n], color)\r\n",
        "  plt.plot(np.arange(n, n+future), y[n:], color+':')"
      ],
      "execution_count": 70,
      "outputs": []
    },
    {
      "cell_type": "code",
      "metadata": {
        "colab": {
          "base_uri": "https://localhost:8080/",
          "height": 885
        },
        "id": "4EBf_P5WtbYf",
        "outputId": "9a74ab08-8c23-4799-ec31-9767ff86d228"
      },
      "source": [
        "\r\n",
        "train_input = torch.from_numpy(y[3:, :-1]).to(device)\r\n",
        "train_target = torch.from_numpy(y[3:, 1:]).to(device)\r\n",
        "\r\n",
        "test_input = torch.from_numpy(y[:3, :-1]).to(device)\r\n",
        "test_target = torch.from_numpy(y[:3, 1:]).to(device)\r\n",
        "\r\n",
        "model = LSTMPredictor().to(device)\r\n",
        "criterion = nn.MSELoss()\r\n",
        "optimizer = optim.LBFGS(model.parameters(), lr =0.5)\r\n",
        "\r\n",
        "n_steps = 10\r\n",
        "for i in range(n_steps):\r\n",
        "  print(\"Step \", i)\r\n",
        "\r\n",
        "  def closure():\r\n",
        "    optimizer.zero_grad()\r\n",
        "    out = model(train_input)\r\n",
        "    loss = criterion(out, train_target)\r\n",
        "    loss.backward()\r\n",
        "    return loss\r\n",
        "  optimizer.step(closure)\r\n",
        "\r\n",
        "  with torch.no_grad():\r\n",
        "    future = 1000\r\n",
        "    pred = model(test_input, future=future)\r\n",
        "    loss = criterion(pred[:, :-future], test_target)\r\n",
        "    y = pred.detach().numpy()\r\n",
        "\r\n",
        "  for y_i,c in zip(y, ['b', 'g', 'r']):\r\n",
        "    draw(y_i, c)\r\n",
        "    plt.show()\r\n"
      ],
      "execution_count": null,
      "outputs": [
        {
          "output_type": "stream",
          "text": [
            "Step  0\n"
          ],
          "name": "stdout"
        },
        {
          "output_type": "display_data",
          "data": {
            "image/png": "[encoded data removed]",
            "text/plain": [
              "<Figure size 432x288 with 1 Axes>"
            ]
          },
          "metadata": {
            "tags": [],
            "needs_background": "light"
          }
        },
        {
          "output_type": "display_data",
          "data": {
            "image/png": "[encoded data removed]",
            "text/plain": [
              "<Figure size 432x288 with 1 Axes>"
            ]
          },
          "metadata": {
            "tags": [],
            "needs_background": "light"
          }
        },
        {
          "output_type": "display_data",
          "data": {
            "image/png": "[encoded data removed]",
            "text/plain": [
              "<Figure size 432x288 with 1 Axes>"
            ]
          },
          "metadata": {
            "tags": [],
            "needs_background": "light"
          }
        },
        {
          "output_type": "stream",
          "text": [
            "Step  1\n"
          ],
          "name": "stdout"
        }
      ]
    },
    {
      "cell_type": "code",
      "metadata": {
        "id": "3vi52dAExEOX"
      },
      "source": [
        ""
      ],
      "execution_count": null,
      "outputs": []
    }
  ]
}